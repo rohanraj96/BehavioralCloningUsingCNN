{
 "cells": [
  {
   "cell_type": "code",
   "execution_count": 1,
   "metadata": {},
   "outputs": [],
   "source": [
    "import matplotlib.pyplot as plt\n",
    "import pandas as pd\n",
    "import cv2\n",
    "import numpy as np\n",
    "%matplotlib inline"
   ]
  },
  {
   "cell_type": "code",
   "execution_count": 2,
   "metadata": {
    "collapsed": true
   },
   "outputs": [],
   "source": [
    "filein = pd.read_csv('./data/driving_log.csv')"
   ]
  },
  {
   "cell_type": "code",
   "execution_count": 3,
   "metadata": {
    "collapsed": true
   },
   "outputs": [],
   "source": [
    "from os import listdir\n",
    "\n",
    "paths = []\n",
    "parent = 'data/IMG/'\n",
    "filenames = listdir('data/IMG/')"
   ]
  },
  {
   "cell_type": "code",
   "execution_count": 4,
   "metadata": {
    "collapsed": true
   },
   "outputs": [],
   "source": [
    "for file in filenames:\n",
    "    paths.append(parent + file)"
   ]
  },
  {
   "cell_type": "code",
   "execution_count": 5,
   "metadata": {
    "collapsed": true
   },
   "outputs": [],
   "source": [
    "left = []\n",
    "for each in paths:\n",
    "    if 'left' in each.split('/')[-1]:\n",
    "        left.append(each)"
   ]
  },
  {
   "cell_type": "code",
   "execution_count": 6,
   "metadata": {
    "collapsed": true
   },
   "outputs": [],
   "source": [
    "center = []\n",
    "for each in paths:\n",
    "    if 'center' in each.split('/')[-1]:\n",
    "        center.append(each)"
   ]
  },
  {
   "cell_type": "code",
   "execution_count": 7,
   "metadata": {
    "collapsed": true
   },
   "outputs": [],
   "source": [
    "right = []\n",
    "for each in paths:\n",
    "    if 'right' in each.split('/')[-1]:\n",
    "        right.append(each)"
   ]
  },
  {
   "cell_type": "code",
   "execution_count": 8,
   "metadata": {
    "collapsed": true
   },
   "outputs": [],
   "source": [
    "steering = np.array(filein['STEERING'])"
   ]
  },
  {
   "cell_type": "code",
   "execution_count": 23,
   "metadata": {
    "collapsed": true,
    "scrolled": true
   },
   "outputs": [],
   "source": [
    "images = []\n",
    "y_train = []\n",
    "for left_img, center_img, right_img, label in zip(left, center, right, steering):\n",
    "    cen = plt.imread(center_img)\n",
    "#     img = img[60:126,60:260,:]\n",
    "#     Choosing only half of the straight values randomly\n",
    "    if (label == 0.0) and (np.random.randint(1,100) % 2 == 0):\n",
    "        images.append(cen)\n",
    "        y_train.append(label)\n",
    "        images.append(cv2.flip(cen,1))\n",
    "        y_train.append(-label)\n",
    "    elif (label != 0.0):\n",
    "        images.append(cen)\n",
    "        y_train.append(label)\n",
    "        images.append(cv2.flip(cen,1))\n",
    "        y_train.append(-label)\n",
    "        \n",
    "    lhs = plt.imread(left_img)\n",
    "    images.append(lhs)\n",
    "    y_train.append(label + 0.3)\n",
    "    \n",
    "    rhs = plt.imread(right_img)\n",
    "    images.append(rhs)\n",
    "    y_train.append(label - 0.3)"
   ]
  },
  {
   "cell_type": "code",
   "execution_count": 24,
   "metadata": {
    "collapsed": true
   },
   "outputs": [],
   "source": [
    "X_train = np.array(images)\n",
    "y_train = np.array(y_train)"
   ]
  },
  {
   "cell_type": "code",
   "execution_count": 25,
   "metadata": {},
   "outputs": [
    {
     "data": {
      "text/plain": [
       "(11430, 160, 320, 3)"
      ]
     },
     "execution_count": 25,
     "metadata": {},
     "output_type": "execute_result"
    }
   ],
   "source": [
    "X_train.shape"
   ]
  },
  {
   "cell_type": "code",
   "execution_count": 26,
   "metadata": {},
   "outputs": [
    {
     "data": {
      "text/plain": [
       "(11430,)"
      ]
     },
     "execution_count": 26,
     "metadata": {},
     "output_type": "execute_result"
    }
   ],
   "source": [
    "y_train.shape"
   ]
  },
  {
   "cell_type": "code",
   "execution_count": 27,
   "metadata": {
    "scrolled": true
   },
   "outputs": [],
   "source": [
    "from keras.models import Sequential\n",
    "from keras.layers import Dense, Conv2D, Flatten, Lambda, Cropping2D, MaxPooling2D\n",
    "from keras import regularizers\n",
    "from keras.optimizers import Adam"
   ]
  },
  {
   "cell_type": "code",
   "execution_count": 28,
   "metadata": {
    "collapsed": true
   },
   "outputs": [],
   "source": [
    "adam = Adam(lr=0.001, beta_1=0.9, beta_2=0.999, epsilon=1e-08, decay=0.01)"
   ]
  },
  {
   "cell_type": "code",
   "execution_count": 29,
   "metadata": {
    "collapsed": true
   },
   "outputs": [],
   "source": [
    "model = Sequential()\n",
    "model.add(Cropping2D(cropping = ((60, 20),(0,0)), input_shape = (160, 320, 3)))\n",
    "model.add(Lambda(lambda x: x/255.0 - 0.5))\n",
    "model.add(Conv2D(24, (5, 5), strides = (2,2), activation = 'relu', kernel_regularizer = regularizers.l2(0.01)))\n",
    "# model.add(MaxPooling2D())\n",
    "model.add(Conv2D(36, (5, 5), strides = (2,2), activation = 'relu', kernel_regularizer = regularizers.l2(0.01)))\n",
    "model.add(Conv2D(48, (5, 5), strides = (2,2), activation = 'relu', kernel_regularizer = regularizers.l2(0.01)))\n",
    "model.add(Conv2D(64, (3, 3), activation = 'relu', kernel_regularizer = regularizers.l2(0.01)))\n",
    "model.add(Conv2D(64, (3, 3), activation = 'relu', kernel_regularizer = regularizers.l2(0.01)))\n",
    "model.add(MaxPooling2D(data_format = \"channels_last\"))\n",
    "model.add(Flatten())\n",
    "model.add(Dense(100, kernel_regularizer = regularizers.l2(0.01)))\n",
    "model.add(Dense(50, kernel_regularizer = regularizers.l2(0.01)))\n",
    "model.add(Dense(10, kernel_regularizer = regularizers.l2(0.01)))\n",
    "model.add(Dense(1))"
   ]
  },
  {
   "cell_type": "code",
   "execution_count": 30,
   "metadata": {},
   "outputs": [
    {
     "name": "stdout",
     "output_type": "stream",
     "text": [
      "Train on 9144 samples, validate on 2286 samples\n",
      "Epoch 1/20\n",
      "9144/9144 [==============================] - 22s 2ms/step - loss: 1.2132 - val_loss: 0.3318\n",
      "Epoch 2/20\n",
      "9144/9144 [==============================] - 21s 2ms/step - loss: 0.2655 - val_loss: 0.1865\n",
      "Epoch 3/20\n",
      "9144/9144 [==============================] - 21s 2ms/step - loss: 0.1833 - val_loss: 0.1412\n",
      "Epoch 4/20\n",
      "9144/9144 [==============================] - 21s 2ms/step - loss: 0.1511 - val_loss: 0.1180\n",
      "Epoch 5/20\n",
      "9144/9144 [==============================] - 21s 2ms/step - loss: 0.1349 - val_loss: 0.1091\n",
      "Epoch 6/20\n",
      "9144/9144 [==============================] - 21s 2ms/step - loss: 0.1250 - val_loss: 0.1020\n",
      "Epoch 7/20\n",
      "9144/9144 [==============================] - 21s 2ms/step - loss: 0.1190 - val_loss: 0.0972\n",
      "Epoch 8/20\n",
      "9144/9144 [==============================] - 21s 2ms/step - loss: 0.1151 - val_loss: 0.0925\n",
      "Epoch 9/20\n",
      "9144/9144 [==============================] - 21s 2ms/step - loss: 0.1122 - val_loss: 0.0880\n",
      "Epoch 10/20\n",
      "9144/9144 [==============================] - 21s 2ms/step - loss: 0.1103 - val_loss: 0.0864\n",
      "Epoch 11/20\n",
      "9144/9144 [==============================] - 21s 2ms/step - loss: 0.1087 - val_loss: 0.0877\n",
      "Epoch 12/20\n",
      "9144/9144 [==============================] - 21s 2ms/step - loss: 0.1076 - val_loss: 0.0864\n",
      "Epoch 13/20\n",
      "9144/9144 [==============================] - 21s 2ms/step - loss: 0.1066 - val_loss: 0.0831\n",
      "Epoch 14/20\n",
      "9144/9144 [==============================] - 21s 2ms/step - loss: 0.1059 - val_loss: 0.0838\n",
      "Epoch 15/20\n",
      "9144/9144 [==============================] - 21s 2ms/step - loss: 0.1054 - val_loss: 0.0832\n",
      "Epoch 16/20\n",
      "9144/9144 [==============================] - 21s 2ms/step - loss: 0.1048 - val_loss: 0.0827\n",
      "Epoch 17/20\n",
      "9144/9144 [==============================] - 21s 2ms/step - loss: 0.1044 - val_loss: 0.0816\n",
      "Epoch 18/20\n",
      "9144/9144 [==============================] - 21s 2ms/step - loss: 0.1041 - val_loss: 0.0825\n",
      "Epoch 19/20\n",
      "9144/9144 [==============================] - 21s 2ms/step - loss: 0.1037 - val_loss: 0.0814\n",
      "Epoch 20/20\n",
      "9144/9144 [==============================] - 21s 2ms/step - loss: 0.1035 - val_loss: 0.0811\n"
     ]
    }
   ],
   "source": [
    "model.compile(loss = 'mse', optimizer = adam)\n",
    "model.fit(X_train, y_train, batch_size = 64, validation_split = 0.2, shuffle = True, epochs = 20, verbose = 1)\n",
    "model.save('nvidia_more_correction.h5')"
   ]
  },
  {
   "cell_type": "code",
   "execution_count": null,
   "metadata": {
    "collapsed": true
   },
   "outputs": [],
   "source": []
  },
  {
   "cell_type": "code",
   "execution_count": null,
   "metadata": {
    "collapsed": true
   },
   "outputs": [],
   "source": []
  },
  {
   "cell_type": "code",
   "execution_count": null,
   "metadata": {
    "collapsed": true
   },
   "outputs": [],
   "source": []
  },
  {
   "cell_type": "code",
   "execution_count": null,
   "metadata": {
    "collapsed": true
   },
   "outputs": [],
   "source": []
  },
  {
   "cell_type": "code",
   "execution_count": null,
   "metadata": {
    "collapsed": true
   },
   "outputs": [],
   "source": []
  }
 ],
 "metadata": {
  "kernelspec": {
   "display_name": "Python 3",
   "language": "python",
   "name": "python3"
  },
  "language_info": {
   "codemirror_mode": {
    "name": "ipython",
    "version": 3
   },
   "file_extension": ".py",
   "mimetype": "text/x-python",
   "name": "python",
   "nbconvert_exporter": "python",
   "pygments_lexer": "ipython3",
   "version": "3.5.2"
  },
  "widgets": {
   "state": {},
   "version": "1.1.2"
  }
 },
 "nbformat": 4,
 "nbformat_minor": 2
}
